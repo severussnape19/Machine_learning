{
 "cells": [
  {
   "cell_type": "code",
   "execution_count": 16,
   "id": "fd54c43e",
   "metadata": {},
   "outputs": [],
   "source": [
    "import copy, math\n",
    "import numpy as np\n",
    "import matplotlib.pyplot as plt\n",
    "np.set_printoptions(precision=2)\n",
    "np.random.seed(1)"
   ]
  },
  {
   "cell_type": "code",
   "execution_count": 17,
   "id": "58c2d129",
   "metadata": {},
   "outputs": [],
   "source": [
    "X_train = np.array([[2104, 5, 1, 45], [1416, 3, 2, 40], [852, 2, 1, 35]])\n",
    "y_train = np.array([460, 232, 178])"
   ]
  },
  {
   "cell_type": "code",
   "execution_count": 18,
   "id": "d665f045",
   "metadata": {},
   "outputs": [
    {
     "name": "stdout",
     "output_type": "stream",
     "text": [
      "X shape: (3, 4), X Type: <class 'numpy.ndarray'>\n",
      "y shape: (3,),   y Type: <class 'numpy.ndarray'>\n"
     ]
    }
   ],
   "source": [
    "print(f\"X shape: {X_train.shape}, X Type: {type(X_train)}\")\n",
    "print(f\"y shape: {y_train.shape},   y Type: {type(y_train)}\")"
   ]
  },
  {
   "cell_type": "code",
   "execution_count": 19,
   "id": "30c64da8",
   "metadata": {},
   "outputs": [
    {
     "data": {
      "text/plain": [
       "array([4.17e-01, 7.20e-01, 1.14e-04, 3.02e-01])"
      ]
     },
     "execution_count": 19,
     "metadata": {},
     "output_type": "execute_result"
    }
   ],
   "source": [
    "b_init = 732.\n",
    "w_init = np.random.rand(4)\n",
    "w_init"
   ]
  },
  {
   "cell_type": "code",
   "execution_count": 20,
   "id": "048b8a32",
   "metadata": {},
   "outputs": [],
   "source": [
    "def predict_single_loop(x, w, b):\n",
    "    n = x.shape[0]\n",
    "    p = 0 # prediction\n",
    "    for i in range(n):\n",
    "        p_i = x[i] * w[i]\n",
    "        p = p + p_i\n",
    "    p += b\n",
    "    return p"
   ]
  },
  {
   "cell_type": "code",
   "execution_count": 21,
   "id": "59551527",
   "metadata": {},
   "outputs": [
    {
     "name": "stdout",
     "output_type": "stream",
     "text": [
      "x_vec Shape: (4,), x_vec Values: [2104    5    1   45]\n",
      "f_wb shape: (), prediction: 1626.6210005046764\n"
     ]
    }
   ],
   "source": [
    "# prediction of a single row\n",
    "x_vec = X_train[0,:]\n",
    "print(f\"x_vec Shape: {x_vec.shape}, x_vec Values: {x_vec}\")\n",
    "f_wb = predict_single_loop(x_vec, w_init, b_init)\n",
    "print(f\"f_wb shape: {f_wb.shape}, prediction: {f_wb}\")"
   ]
  },
  {
   "cell_type": "code",
   "execution_count": 22,
   "id": "ae16e371",
   "metadata": {},
   "outputs": [
    {
     "name": "stdout",
     "output_type": "stream",
     "text": [
      "x_vec Shape: (4,), x_vec Values: [2104    5    1   45]\n",
      "f_wb shape: (), prediction: 1626.6210005046764\n"
     ]
    }
   ],
   "source": [
    "# prediction of a single row\n",
    "x_vec = X_train[0,:]\n",
    "print(f\"x_vec Shape: {x_vec.shape}, x_vec Values: {x_vec}\")\n",
    "\n",
    "f_wb = np.dot(X_train[0,:], w_init) + b_init\n",
    "print(f\"f_wb shape: {f_wb.shape}, prediction: {f_wb}\")"
   ]
  },
  {
   "cell_type": "markdown",
   "id": "73fd9e25",
   "metadata": {},
   "source": [
    "### Cost Function"
   ]
  },
  {
   "cell_type": "code",
   "execution_count": 23,
   "id": "f718e44b",
   "metadata": {},
   "outputs": [],
   "source": [
    "def cost_function(x, y, w, b):\n",
    "    m = x.shape[0]\n",
    "    cost = 0.0\n",
    "    for i in range(m):\n",
    "        f_wb_i = np.dot(x[i], w) + b\n",
    "        cost = cost + (f_wb_i - y[i]) ** 2\n",
    "    cost = cost / (2 * m)\n",
    "    return cost"
   ]
  },
  {
   "cell_type": "code",
   "execution_count": 24,
   "id": "89d7d748",
   "metadata": {},
   "outputs": [
    {
     "name": "stdout",
     "output_type": "stream",
     "text": [
      "Cost is: 571722.3481919497\n"
     ]
    }
   ],
   "source": [
    "cost = cost_function(X_train, y_train, w_init, b_init)\n",
    "print(f\"Cost is: {cost}\")"
   ]
  },
  {
   "cell_type": "markdown",
   "id": "ab89ffd1",
   "metadata": {},
   "source": [
    "### Computing Gradient"
   ]
  },
  {
   "cell_type": "markdown",
   "id": "54a4c55d",
   "metadata": {},
   "source": [
    "$$\n",
    "\\begin{align}\n",
    "\\frac{\\partial J(\\mathbf{w},b)}{\\partial w_j}  &= \\frac{1}{m} \\sum\\limits_{i = 0}^{m-1} (f_{\\mathbf{w},b}(\\mathbf{x}^{(i)}) - y^{(i)})x_{j}^{(i)}   \\\\\n",
    "\\frac{\\partial J(\\mathbf{w},b)}{\\partial b}  &= \\frac{1}{m} \\sum\\limits_{i = 0}^{m-1} (f_{\\mathbf{w},b}(\\mathbf{x}^{(i)}) - y^{(i)}) \n",
    "\\end{align}\n",
    "$$"
   ]
  },
  {
   "cell_type": "code",
   "execution_count": 25,
   "id": "c4b4827a",
   "metadata": {},
   "outputs": [],
   "source": [
    "def compute_gradient(x, y, w, b):\n",
    "    m,n = x.shape # m = 3, n = 4\n",
    "    dj_dw = np.zeros((n,))\n",
    "    dj_db = 0\n",
    "\n",
    "    for i in range(m):\n",
    "        error = (np.dot(x[i], w) + b) - y[i]\n",
    "        for j in range(n):\n",
    "            dj_dw[j] = dj_dw[j] + error * x[i, j]\n",
    "        dj_db = dj_db + error\n",
    "    dj_dw = dj_dw / m\n",
    "    dj_db = dj_db / m\n",
    "\n",
    "    return dj_db, dj_dw"
   ]
  },
  {
   "cell_type": "code",
   "execution_count": 26,
   "id": "8e7b6be7",
   "metadata": {},
   "outputs": [
    {
     "name": "stdout",
     "output_type": "stream",
     "text": [
      "dj/db at initial w,b: 1064.2346052363885\n",
      "dj/dw at initial w,b: [1.60e+06 3.66e+03 1.43e+03 4.30e+04]\n"
     ]
    }
   ],
   "source": [
    "tmp_dj_db, tmp_dj_dw = compute_gradient(X_train, y_train, w_init, b_init)\n",
    "print(f\"dj/db at initial w,b: {tmp_dj_db}\")\n",
    "print(f\"dj/dw at initial w,b: {tmp_dj_dw}\")"
   ]
  },
  {
   "cell_type": "markdown",
   "id": "3d513fc7",
   "metadata": {},
   "source": [
    "### Gradient Descent"
   ]
  },
  {
   "cell_type": "code",
   "execution_count": 27,
   "id": "aa8bf932",
   "metadata": {},
   "outputs": [],
   "source": [
    "def gradient_descent(x, y, w_in, b_in, cost_function, gradient_function, alpha, num_iters):\n",
    "    J_history = []\n",
    "    w = copy.deepcopy(w_in)\n",
    "    b = b_in\n",
    "\n",
    "    for i in range(num_iters):\n",
    "        dj_db, dj_dw = gradient_function(x, y, w, b)\n",
    "\n",
    "        w = w - alpha * dj_dw\n",
    "        b = b - alpha * dj_db\n",
    "\n",
    "        if i < 1000000:\n",
    "            J_history.append(cost_function(x, y, w, b))\n",
    "\n",
    "            if i % math.ceil(num_iters / 10) == 0:\n",
    "                print(f\"Iteration {i:4d}: Cost {J_history[-1]:8.2f}\")\n",
    "\n",
    "    return w, b, J_history"
   ]
  },
  {
   "cell_type": "code",
   "execution_count": 34,
   "id": "71fd8e46",
   "metadata": {},
   "outputs": [
    {
     "name": "stdout",
     "output_type": "stream",
     "text": [
      "Iteration    0: Cost 28989.11\n",
      "Iteration 200000: Cost   574.73\n",
      "Iteration 400000: Cost   566.01\n",
      "Iteration 600000: Cost   560.58\n",
      "Iteration 800000: Cost   555.29\n",
      "b,w found by gradient descent: 0.00, [ 0.24  1.1  -3.12 -1.48]\n",
      "prediction: 440.17, target value: 460 \n",
      "prediction: 277.36, target value: 232 \n",
      "prediction: 151.60, target value: 178 \n"
     ]
    }
   ],
   "source": [
    "initial_w = np.zeros_like(w_init)\n",
    "initial_b = 0.\n",
    "\n",
    "alpha = 0.0000001\n",
    "iterations = 2000000\n",
    "\n",
    "w_final, b_final, J_hist = gradient_descent(X_train, y_train, initial_w, initial_b,\n",
    "                                            cost_function, compute_gradient, alpha, iterations)\n",
    "print(f\"b,w found by gradient descent: {b_final:0.2f}, {w_final}\")\n",
    "m,_ = X_train.shape\n",
    "for i in range(m):\n",
    "    print(f\"prediction: {np.dot(X_train[i], w_final) + b_final:0.2f}, target value: {y_train[i]} \")"
   ]
  },
  {
   "cell_type": "code",
   "execution_count": 29,
   "id": "83b858ae",
   "metadata": {},
   "outputs": [
    {
     "data": {
      "image/png": "[encoded data removed]",
      "text/plain": [
       "<Figure size 1200x400 with 2 Axes>"
      ]
     },
     "metadata": {},
     "output_type": "display_data"
    }
   ],
   "source": [
    "fig, (ax1, ax2) = plt.subplots(1, 2, constrained_layout=True, figsize=(12, 4))\n",
    "ax1.plot(J_hist)\n",
    "ax2.plot(100 + np.arange(len(J_hist[100:])), J_hist[100:])\n",
    "ax1.set_title(\"Cost vs. iteration\");  ax2.set_title(\"Cost vs. iteration (tail)\")\n",
    "ax1.set_ylabel('Cost')             ;  ax2.set_ylabel('Cost') \n",
    "ax1.set_xlabel('iteration step')   ;  ax2.set_xlabel('iteration step') \n",
    "plt.show()"
   ]
  }
 ],
 "metadata": {
  "kernelspec": {
   "display_name": "Python 3",
   "language": "python",
   "name": "python3"
  },
  "language_info": {
   "codemirror_mode": {
    "name": "ipython",
    "version": 3
   },
   "file_extension": ".py",
   "mimetype": "text/x-python",
   "name": "python",
   "nbconvert_exporter": "python",
   "pygments_lexer": "ipython3",
   "version": "3.13.7"
  }
 },
 "nbformat": 4,
 "nbformat_minor": 5
}
